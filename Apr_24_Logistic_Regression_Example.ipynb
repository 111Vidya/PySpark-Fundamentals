{
  "cells": [
    {
      "cell_type": "markdown",
      "metadata": {
        "id": "view-in-github",
        "colab_type": "text"
      },
      "source": [
        "<a href=\"https://colab.research.google.com/github/111Vidya/PySpark-Fundamentals/blob/main/Apr_24_Logistic_Regression_Example.ipynb\" target=\"_parent\"><img src=\"https://colab.research.google.com/assets/colab-badge.svg\" alt=\"Open In Colab\"/></a>"
      ]
    },
    {
      "cell_type": "markdown",
      "metadata": {
        "id": "mhs37TnFTsvh"
      },
      "source": [
        "# Logistic Regression\n",
        "\n",
        "Let's see an example of how to run a logistic regression with Python and Spark! This is documentation example, we will quickly run through this and then show a more realistic example, afterwards, you will have another consulting project!"
      ]
    },
    {
      "cell_type": "code",
      "execution_count": null,
      "metadata": {
        "collapsed": true,
        "colab": {
          "base_uri": "https://localhost:8080/"
        },
        "id": "3NQKjk4NTsvi",
        "outputId": "2767dcdc-1f9d-4d84-8b27-70dd6f132e4a"
      },
      "outputs": [
        {
          "output_type": "stream",
          "name": "stdout",
          "text": [
            "Collecting pyspark\n",
            "  Downloading pyspark-3.5.1.tar.gz (317.0 MB)\n",
            "\u001b[2K     \u001b[90m━━━━━━━━━━━━━━━━━━━━━━━━━━━━━━━━━━━━━━━━\u001b[0m \u001b[32m317.0/317.0 MB\u001b[0m \u001b[31m4.6 MB/s\u001b[0m eta \u001b[36m0:00:00\u001b[0m\n",
            "\u001b[?25h  Preparing metadata (setup.py) ... \u001b[?25l\u001b[?25hdone\n",
            "Requirement already satisfied: py4j==0.10.9.7 in /usr/local/lib/python3.10/dist-packages (from pyspark) (0.10.9.7)\n",
            "Building wheels for collected packages: pyspark\n",
            "  Building wheel for pyspark (setup.py) ... \u001b[?25l\u001b[?25hdone\n",
            "  Created wheel for pyspark: filename=pyspark-3.5.1-py2.py3-none-any.whl size=317488491 sha256=d98c682d2d23288255ff5d843ae9548607a110efb1183493f0ded04a1ed845f8\n",
            "  Stored in directory: /root/.cache/pip/wheels/80/1d/60/2c256ed38dddce2fdd93be545214a63e02fbd8d74fb0b7f3a6\n",
            "Successfully built pyspark\n",
            "Installing collected packages: pyspark\n",
            "Successfully installed pyspark-3.5.1\n"
          ]
        }
      ],
      "source": [
        "!pip install pyspark\n",
        "from pyspark.sql import SparkSession\n",
        "spark = SparkSession.builder.appName('logregdoc').getOrCreate()"
      ]
    },
    {
      "cell_type": "code",
      "execution_count": null,
      "metadata": {
        "collapsed": true,
        "id": "NuhIADUNTsvj"
      },
      "outputs": [],
      "source": [
        "#Classification Model\n",
        "from pyspark.ml.classification import LogisticRegression"
      ]
    },
    {
      "cell_type": "code",
      "execution_count": null,
      "metadata": {
        "id": "JZXEslIvTsvk"
      },
      "outputs": [],
      "source": [
        "# Load training data . Initialize model and fit on training set\n",
        "training = spark.read.format(\"libsvm\").load(\"sample_libsvm_data.txt\")\n",
        "\n",
        "lr = LogisticRegression()\n",
        "\n",
        "# Fit the model\n",
        "lrModel = lr.fit(training)\n",
        "\n",
        "trainingSummary = lrModel.summary"
      ]
    },
    {
      "cell_type": "code",
      "execution_count": null,
      "metadata": {
        "colab": {
          "base_uri": "https://localhost:8080/"
        },
        "id": "OyQ_x417Tsvk",
        "outputId": "397b31ad-9f89-4aaa-8543-d44259c32055"
      },
      "outputs": [
        {
          "output_type": "stream",
          "name": "stdout",
          "text": [
            "+-----+--------------------+--------------------+--------------------+----------+\n",
            "|label|            features|       rawPrediction|         probability|prediction|\n",
            "+-----+--------------------+--------------------+--------------------+----------+\n",
            "|  0.0|(692,[127,128,129...|[20.3777627514862...|[0.99999999858729...|       0.0|\n",
            "|  1.0|(692,[158,159,160...|[-21.114014198867...|[6.76550380001560...|       1.0|\n",
            "|  1.0|(692,[124,125,126...|[-23.743613234676...|[4.87842678715831...|       1.0|\n",
            "|  1.0|(692,[152,153,154...|[-19.192574012719...|[4.62137287298722...|       1.0|\n",
            "|  1.0|(692,[151,152,153...|[-20.125398874697...|[1.81823629113437...|       1.0|\n",
            "|  0.0|(692,[129,130,131...|[20.4890549504187...|[0.99999999873608...|       0.0|\n",
            "|  1.0|(692,[158,159,160...|[-21.082940212813...|[6.97903542824686...|       1.0|\n",
            "|  1.0|(692,[99,100,101,...|[-19.622713503566...|[3.00582577441380...|       1.0|\n",
            "|  0.0|(692,[154,155,156...|[21.1594863606570...|[0.99999999935352...|       0.0|\n",
            "|  0.0|(692,[127,128,129...|[28.1036706837273...|[0.99999999999937...|       0.0|\n",
            "|  1.0|(692,[154,155,156...|[-21.054076780105...|[7.18340962960684...|       1.0|\n",
            "|  0.0|(692,[153,154,155...|[26.9648490510173...|[0.99999999999805...|       0.0|\n",
            "|  0.0|(692,[151,152,153...|[32.7855654161393...|[0.99999999999999...|       0.0|\n",
            "|  1.0|(692,[129,130,131...|[-20.331839179665...|[1.47908944090011...|       1.0|\n",
            "|  0.0|(692,[154,155,156...|[21.7830579106565...|[0.99999999965347...|       0.0|\n",
            "|  1.0|(692,[150,151,152...|[-20.640562103727...|[1.08621994880504...|       1.0|\n",
            "|  0.0|(692,[124,125,126...|[22.6400775503740...|[0.99999999985292...|       0.0|\n",
            "|  0.0|(692,[152,153,154...|[38.0712919910898...|           [1.0,0.0]|       0.0|\n",
            "|  1.0|(692,[97,98,99,12...|[-19.830803265627...|[2.44113371545821...|       1.0|\n",
            "|  1.0|(692,[124,125,126...|[-21.016054806035...|[7.46179590485056...|       1.0|\n",
            "+-----+--------------------+--------------------+--------------------+----------+\n",
            "only showing top 20 rows\n",
            "\n"
          ]
        }
      ],
      "source": [
        "trainingSummary.predictions.show() # predicted probablity and final prediction.\n",
        "# probability is AV"
      ]
    },
    {
      "cell_type": "code",
      "execution_count": null,
      "metadata": {
        "collapsed": true,
        "id": "1MZdyf_lTsvk"
      },
      "outputs": [],
      "source": [
        "# May change soon!\n",
        "from pyspark.mllib.evaluation import MulticlassMetrics"
      ]
    },
    {
      "cell_type": "code",
      "execution_count": null,
      "metadata": {
        "colab": {
          "base_uri": "https://localhost:8080/"
        },
        "id": "FaiHbbq8Tsvl",
        "outputId": "d4d36022-4d4a-49c5-9541-2c5f6a6d5046"
      },
      "outputs": [
        {
          "output_type": "execute_result",
          "data": {
            "text/plain": [
              "<pyspark.ml.classification.BinaryLogisticRegressionSummary at 0x7c361cdeef80>"
            ]
          },
          "metadata": {},
          "execution_count": 7
        }
      ],
      "source": [
        "lrModel.evaluate(training)"
      ]
    },
    {
      "cell_type": "code",
      "execution_count": null,
      "metadata": {
        "collapsed": true,
        "id": "tDxSrHLxTsvl"
      },
      "outputs": [],
      "source": [
        "# Usually would do this on a separate test set!\n",
        "predictionAndLabels = lrModel.evaluate(training)"
      ]
    },
    {
      "cell_type": "code",
      "execution_count": null,
      "metadata": {
        "colab": {
          "base_uri": "https://localhost:8080/"
        },
        "id": "H3Ka4-HgTsvm",
        "outputId": "e139facf-505c-47b9-c3ec-91094c6de7af"
      },
      "outputs": [
        {
          "output_type": "stream",
          "name": "stdout",
          "text": [
            "+-----+--------------------+--------------------+--------------------+----------+\n",
            "|label|            features|       rawPrediction|         probability|prediction|\n",
            "+-----+--------------------+--------------------+--------------------+----------+\n",
            "|  0.0|(692,[127,128,129...|[20.3777627514862...|[0.99999999858729...|       0.0|\n",
            "|  1.0|(692,[158,159,160...|[-21.114014198867...|[6.76550380001560...|       1.0|\n",
            "|  1.0|(692,[124,125,126...|[-23.743613234676...|[4.87842678715831...|       1.0|\n",
            "|  1.0|(692,[152,153,154...|[-19.192574012719...|[4.62137287298722...|       1.0|\n",
            "|  1.0|(692,[151,152,153...|[-20.125398874697...|[1.81823629113437...|       1.0|\n",
            "|  0.0|(692,[129,130,131...|[20.4890549504187...|[0.99999999873608...|       0.0|\n",
            "|  1.0|(692,[158,159,160...|[-21.082940212813...|[6.97903542824686...|       1.0|\n",
            "|  1.0|(692,[99,100,101,...|[-19.622713503566...|[3.00582577441380...|       1.0|\n",
            "|  0.0|(692,[154,155,156...|[21.1594863606570...|[0.99999999935352...|       0.0|\n",
            "|  0.0|(692,[127,128,129...|[28.1036706837273...|[0.99999999999937...|       0.0|\n",
            "|  1.0|(692,[154,155,156...|[-21.054076780105...|[7.18340962960684...|       1.0|\n",
            "|  0.0|(692,[153,154,155...|[26.9648490510173...|[0.99999999999805...|       0.0|\n",
            "|  0.0|(692,[151,152,153...|[32.7855654161393...|[0.99999999999999...|       0.0|\n",
            "|  1.0|(692,[129,130,131...|[-20.331839179665...|[1.47908944090011...|       1.0|\n",
            "|  0.0|(692,[154,155,156...|[21.7830579106565...|[0.99999999965347...|       0.0|\n",
            "|  1.0|(692,[150,151,152...|[-20.640562103727...|[1.08621994880504...|       1.0|\n",
            "|  0.0|(692,[124,125,126...|[22.6400775503740...|[0.99999999985292...|       0.0|\n",
            "|  0.0|(692,[152,153,154...|[38.0712919910898...|           [1.0,0.0]|       0.0|\n",
            "|  1.0|(692,[97,98,99,12...|[-19.830803265627...|[2.44113371545821...|       1.0|\n",
            "|  1.0|(692,[124,125,126...|[-21.016054806035...|[7.46179590485056...|       1.0|\n",
            "+-----+--------------------+--------------------+--------------------+----------+\n",
            "only showing top 20 rows\n",
            "\n"
          ]
        }
      ],
      "source": [
        "predictionAndLabels.predictions.show()"
      ]
    },
    {
      "cell_type": "code",
      "execution_count": null,
      "metadata": {
        "id": "2G7nxHfmTsvm"
      },
      "outputs": [],
      "source": [
        "predictionAndLabels = predictionAndLabels.predictions.select('label','prediction')"
      ]
    },
    {
      "cell_type": "code",
      "execution_count": null,
      "metadata": {
        "colab": {
          "base_uri": "https://localhost:8080/"
        },
        "id": "sQbw6dFUTsvn",
        "outputId": "ff6b61be-e43e-4b00-a5af-ab49f29bfb98"
      },
      "outputs": [
        {
          "output_type": "stream",
          "name": "stdout",
          "text": [
            "+-----+----------+\n",
            "|label|prediction|\n",
            "+-----+----------+\n",
            "|  0.0|       0.0|\n",
            "|  1.0|       1.0|\n",
            "|  1.0|       1.0|\n",
            "|  1.0|       1.0|\n",
            "|  1.0|       1.0|\n",
            "|  0.0|       0.0|\n",
            "|  1.0|       1.0|\n",
            "|  1.0|       1.0|\n",
            "|  0.0|       0.0|\n",
            "|  0.0|       0.0|\n",
            "|  1.0|       1.0|\n",
            "|  0.0|       0.0|\n",
            "|  0.0|       0.0|\n",
            "|  1.0|       1.0|\n",
            "|  0.0|       0.0|\n",
            "|  1.0|       1.0|\n",
            "|  0.0|       0.0|\n",
            "|  0.0|       0.0|\n",
            "|  1.0|       1.0|\n",
            "|  1.0|       1.0|\n",
            "+-----+----------+\n",
            "only showing top 20 rows\n",
            "\n"
          ]
        }
      ],
      "source": [
        "predictionAndLabels.show() # AV vs PV"
      ]
    },
    {
      "cell_type": "markdown",
      "metadata": {
        "id": "yfRYXo8DTsvn"
      },
      "source": [
        "## Evaluators\n",
        "\n",
        "Evaluators will be a very important part of our pipline when working with Machine Learning, let's see some basics for Logistic Regression, useful links:\n",
        "\n",
        "https://spark.apache.org/docs/latest/api/python/pyspark.ml.html#pyspark.ml.evaluation.BinaryClassificationEvaluator\n",
        "\n",
        "https://spark.apache.org/docs/latest/api/python/pyspark.ml.html#pyspark.ml.evaluation.MulticlassClassificationEvaluator"
      ]
    },
    {
      "cell_type": "code",
      "execution_count": null,
      "metadata": {
        "id": "rFccTOrqTsvn"
      },
      "outputs": [],
      "source": [
        "# to find accuracy of the model\n",
        "from pyspark.ml.evaluation import BinaryClassificationEvaluator,MulticlassClassificationEvaluator"
      ]
    },
    {
      "cell_type": "code",
      "execution_count": null,
      "metadata": {
        "collapsed": true,
        "id": "63vY1w-STsvo"
      },
      "outputs": [],
      "source": [
        "evaluator = BinaryClassificationEvaluator(rawPredictionCol='prediction', labelCol='label')"
      ]
    },
    {
      "cell_type": "code",
      "execution_count": null,
      "metadata": {
        "id": "xvasmmzVTsvo"
      },
      "outputs": [],
      "source": [
        "# For multiclass\n",
        "evaluator = MulticlassClassificationEvaluator(predictionCol='prediction', labelCol='label',\n",
        "                                             metricName='accuracy')"
      ]
    },
    {
      "cell_type": "code",
      "execution_count": null,
      "metadata": {
        "collapsed": true,
        "id": "s9KRD5DETsvo"
      },
      "outputs": [],
      "source": [
        "acc = evaluator.evaluate(predictionAndLabels)"
      ]
    },
    {
      "cell_type": "code",
      "execution_count": null,
      "metadata": {
        "colab": {
          "base_uri": "https://localhost:8080/"
        },
        "id": "maeyqRhmTsvo",
        "outputId": "e84f5e85-2797-4e82-9951-aa584369621f"
      },
      "outputs": [
        {
          "output_type": "execute_result",
          "data": {
            "text/plain": [
              "1.0"
            ]
          },
          "metadata": {},
          "execution_count": 17
        }
      ],
      "source": [
        "acc"
      ]
    },
    {
      "cell_type": "markdown",
      "metadata": {
        "id": "ivzkQK8BTsvo"
      },
      "source": [
        "Okay let's move on see some more examples!"
      ]
    }
  ],
  "metadata": {
    "anaconda-cloud": {},
    "kernelspec": {
      "display_name": "Python [conda root]",
      "language": "python",
      "name": "conda-root-py"
    },
    "language_info": {
      "codemirror_mode": {
        "name": "ipython",
        "version": 3
      },
      "file_extension": ".py",
      "mimetype": "text/x-python",
      "name": "python",
      "nbconvert_exporter": "python",
      "pygments_lexer": "ipython3",
      "version": "3.5.3"
    },
    "colab": {
      "provenance": [],
      "include_colab_link": true
    }
  },
  "nbformat": 4,
  "nbformat_minor": 0
}