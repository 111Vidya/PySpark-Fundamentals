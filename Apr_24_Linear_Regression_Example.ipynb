{
  "cells": [
    {
      "cell_type": "markdown",
      "metadata": {
        "id": "view-in-github",
        "colab_type": "text"
      },
      "source": [
        "<a href=\"https://colab.research.google.com/github/111Vidya/PySpark-Fundamentals/blob/main/Apr_24_Linear_Regression_Example.ipynb\" target=\"_parent\"><img src=\"https://colab.research.google.com/assets/colab-badge.svg\" alt=\"Open In Colab\"/></a>"
      ]
    },
    {
      "cell_type": "markdown",
      "metadata": {
        "id": "fEf267huQB97"
      },
      "source": [
        "# Linear Regression Example\n",
        "\n",
        "Let's walk through the steps of the official documentation example. Doing this will help your ability to read from the documentation, understand it, and then apply it to your own problems (the upcoming Consulting Project)."
      ]
    },
    {
      "cell_type": "code",
      "execution_count": null,
      "metadata": {
        "collapsed": true,
        "colab": {
          "base_uri": "https://localhost:8080/"
        },
        "id": "YWUmgjqIQB9-",
        "outputId": "808daf4d-0257-427f-f9c0-e6180f936cf3"
      },
      "outputs": [
        {
          "output_type": "stream",
          "name": "stdout",
          "text": [
            "Collecting pyspark\n",
            "  Downloading pyspark-3.5.1.tar.gz (317.0 MB)\n",
            "\u001b[2K     \u001b[90m━━━━━━━━━━━━━━━━━━━━━━━━━━━━━━━━━━━━━━━━\u001b[0m \u001b[32m317.0/317.0 MB\u001b[0m \u001b[31m3.2 MB/s\u001b[0m eta \u001b[36m0:00:00\u001b[0m\n",
            "\u001b[?25h  Preparing metadata (setup.py) ... \u001b[?25l\u001b[?25hdone\n",
            "Requirement already satisfied: py4j==0.10.9.7 in /usr/local/lib/python3.10/dist-packages (from pyspark) (0.10.9.7)\n",
            "Building wheels for collected packages: pyspark\n",
            "  Building wheel for pyspark (setup.py) ... \u001b[?25l\u001b[?25hdone\n",
            "  Created wheel for pyspark: filename=pyspark-3.5.1-py2.py3-none-any.whl size=317488491 sha256=46e6c30d62db3725d264f61609c0fec98bc3942920f4cbbd0a4ca4f246d26727\n",
            "  Stored in directory: /root/.cache/pip/wheels/80/1d/60/2c256ed38dddce2fdd93be545214a63e02fbd8d74fb0b7f3a6\n",
            "Successfully built pyspark\n",
            "Installing collected packages: pyspark\n",
            "Successfully installed pyspark-3.5.1\n"
          ]
        }
      ],
      "source": [
        "!pip install pyspark\n",
        "from pyspark.sql import SparkSession"
      ]
    },
    {
      "cell_type": "code",
      "execution_count": null,
      "metadata": {
        "collapsed": true,
        "id": "oBH4amQGQB-A"
      },
      "outputs": [],
      "source": [
        "spark = SparkSession.builder.appName('lr_example').getOrCreate()"
      ]
    },
    {
      "cell_type": "code",
      "execution_count": null,
      "metadata": {
        "collapsed": true,
        "id": "rebNJf-wQB-A"
      },
      "outputs": [],
      "source": [
        "from pyspark.ml.regression import LinearRegression"
      ]
    },
    {
      "cell_type": "code",
      "execution_count": null,
      "metadata": {
        "collapsed": true,
        "id": "XgMZBI5wQB-A"
      },
      "outputs": [],
      "source": [
        "# Load training data.libsvm commonly used inpyspark environ. new format with pyspark\n",
        "#DF that has created feature vector already and TV to work on\n",
        "training = spark.read.format(\"libsvm\").load(\"sample_linear_regression_data.txt\")"
      ]
    },
    {
      "cell_type": "markdown",
      "metadata": {
        "id": "9zqGd41CQB-B"
      },
      "source": [
        "Interesting! We haven't seen libsvm formats before. In fact the aren't very popular when working with datasets in Python, but the Spark Documentation makes use of them a lot because of their formatting. Let's see what the training data looks like:"
      ]
    },
    {
      "cell_type": "code",
      "execution_count": null,
      "metadata": {
        "colab": {
          "base_uri": "https://localhost:8080/"
        },
        "id": "1jKDQyczQB-B",
        "outputId": "656dee50-bd1b-407f-b93b-f2208862bd75"
      },
      "outputs": [
        {
          "output_type": "stream",
          "name": "stdout",
          "text": [
            "+-------------------+--------------------+\n",
            "|              label|            features|\n",
            "+-------------------+--------------------+\n",
            "| -9.490009878824548|(10,[0,1,2,3,4,5,...|\n",
            "| 0.2577820163584905|(10,[0,1,2,3,4,5,...|\n",
            "| -4.438869807456516|(10,[0,1,2,3,4,5,...|\n",
            "|-19.782762789614537|(10,[0,1,2,3,4,5,...|\n",
            "| -7.966593841555266|(10,[0,1,2,3,4,5,...|\n",
            "| -7.896274316726144|(10,[0,1,2,3,4,5,...|\n",
            "| -8.464803554195287|(10,[0,1,2,3,4,5,...|\n",
            "| 2.1214592666251364|(10,[0,1,2,3,4,5,...|\n",
            "| 1.0720117616524107|(10,[0,1,2,3,4,5,...|\n",
            "|-13.772441561702871|(10,[0,1,2,3,4,5,...|\n",
            "| -5.082010756207233|(10,[0,1,2,3,4,5,...|\n",
            "|  7.887786536531237|(10,[0,1,2,3,4,5,...|\n",
            "| 14.323146365332388|(10,[0,1,2,3,4,5,...|\n",
            "|-20.057482615789212|(10,[0,1,2,3,4,5,...|\n",
            "|-0.8995693247765151|(10,[0,1,2,3,4,5,...|\n",
            "| -19.16829262296376|(10,[0,1,2,3,4,5,...|\n",
            "|  5.601801561245534|(10,[0,1,2,3,4,5,...|\n",
            "|-3.2256352187273354|(10,[0,1,2,3,4,5,...|\n",
            "| 1.5299675726687754|(10,[0,1,2,3,4,5,...|\n",
            "| -0.250102447941961|(10,[0,1,2,3,4,5,...|\n",
            "+-------------------+--------------------+\n",
            "only showing top 20 rows\n",
            "\n"
          ]
        }
      ],
      "source": [
        "training.show()"
      ]
    },
    {
      "cell_type": "markdown",
      "metadata": {
        "id": "kN9k8idlQB-C"
      },
      "source": [
        "This is the format that Spark expects. Two columns with the names \"label\" and \"features\".\n",
        "\n",
        "The \"label\" column then needs to have the numerical label, either a regression numerical value, or a numerical value that matches to a classification grouping. Later on we will talk about unsupervised learning algorithms that by their nature do not use or require a label.\n",
        "\n",
        "The feature column has inside of it a vector of all the features that belong to that row. Usually what we end up doing is combining the various feature columns we have into a single 'features' column using the data transformations we've learned about.\n",
        "\n",
        "Let's continue working through this simple example!"
      ]
    },
    {
      "cell_type": "code",
      "execution_count": null,
      "metadata": {
        "collapsed": true,
        "id": "QlJ0vAXJQB-C"
      },
      "outputs": [],
      "source": [
        "# These are the default values for the featuresCol, labelCol, predictionCol\n",
        "lr = LinearRegression(featuresCol='features', labelCol='label', predictionCol='prediction')\n",
        "\n",
        "# You could also pass in additional parameters for regularization, do the reading\n",
        "# in ISLR to fully understand that, after that its just some simple parameter calls.\n",
        "# Check the documentation with Shift+Tab for more info!"
      ]
    },
    {
      "cell_type": "code",
      "execution_count": null,
      "metadata": {
        "collapsed": true,
        "id": "9Ly54a_PQB-C"
      },
      "outputs": [],
      "source": [
        "# Fit the model\n",
        "lrModel = lr.fit(training)"
      ]
    },
    {
      "cell_type": "code",
      "execution_count": null,
      "metadata": {
        "colab": {
          "base_uri": "https://localhost:8080/"
        },
        "id": "Qvl8oJl7QB-D",
        "outputId": "3a1870b7-5c87-4b09-aad1-f6d90f3a3757"
      },
      "outputs": [
        {
          "output_type": "stream",
          "name": "stdout",
          "text": [
            "Coefficients: [0.0073350710225801715,0.8313757584337543,-0.8095307954684084,2.441191686884721,0.5191713795290002,1.1534591903547016,-0.2989124112808717,-0.5128514186201779,-0.619712827067017,0.695615180432293]\n",
            "\n",
            "\n",
            "Intercept:0.14228558260358093\n"
          ]
        }
      ],
      "source": [
        "# Print the coefficients and intercept for linear regression\n",
        "print(\"Coefficients: {}\".format(str(lrModel.coefficients))) # For each feature...\n",
        "print('\\n')\n",
        "print(\"Intercept:{}\".format(str(lrModel.intercept)))"
      ]
    },
    {
      "cell_type": "markdown",
      "metadata": {
        "id": "OueW4URsQB-D"
      },
      "source": [
        "There is a summary attribute that contains even more info!"
      ]
    },
    {
      "cell_type": "code",
      "execution_count": null,
      "metadata": {
        "collapsed": true,
        "colab": {
          "base_uri": "https://localhost:8080/"
        },
        "id": "m7f1Mqc3QB-D",
        "outputId": "52b57ed5-9c2e-4db3-e7d0-8f8952837dc5"
      },
      "outputs": [
        {
          "output_type": "execute_result",
          "data": {
            "text/plain": [
              "0.027839179518600154"
            ]
          },
          "metadata": {},
          "execution_count": 12
        }
      ],
      "source": [
        "# Summarize the model over the training set and print out some metrics\n",
        "trainingSummary = lrModel.summary\n",
        "trainingSummary.meanSquaredError\n",
        "trainingSummary.r2\n",
        "trainingSummary.adj"
      ]
    },
    {
      "cell_type": "markdown",
      "metadata": {
        "id": "JMDIB_OiQB-E"
      },
      "source": [
        "Lots of info, here are a few examples:"
      ]
    },
    {
      "cell_type": "code",
      "execution_count": null,
      "metadata": {
        "colab": {
          "base_uri": "https://localhost:8080/"
        },
        "id": "f5i2BXoUQB-E",
        "outputId": "2b915e44-41c0-479d-95e7-9c3e1ccd69de"
      },
      "outputs": [
        {
          "output_type": "stream",
          "name": "stdout",
          "text": [
            "+-------------------+\n",
            "|          residuals|\n",
            "+-------------------+\n",
            "|-11.011130022096554|\n",
            "| 0.9236590911176535|\n",
            "|-4.5957401897776675|\n",
            "|  -20.4201774575836|\n",
            "|-10.339160314788181|\n",
            "|-5.9552091439610555|\n",
            "|-10.726906349283922|\n",
            "| 2.1228071931912336|\n",
            "|  4.077122222293811|\n",
            "|-17.316168071241652|\n",
            "| -4.593044343959059|\n",
            "|  6.380476690746936|\n",
            "| 11.320566035059846|\n",
            "|-20.721971774534094|\n",
            "| -2.736692773777401|\n",
            "| -16.66886934252847|\n",
            "|  8.242186378876315|\n",
            "|-1.3723486332690233|\n",
            "|-0.7060332131264666|\n",
            "|-1.1591135969994064|\n",
            "+-------------------+\n",
            "only showing top 20 rows\n",
            "\n",
            "RMSE: 10.16309157133015\n",
            "r2: 0.027839179518600154\n"
          ]
        }
      ],
      "source": [
        "trainingSummary.residuals.show()\n",
        "print(\"RMSE: {}\".format(trainingSummary.rootMeanSquaredError))\n",
        "print(\"r2: {}\".format(trainingSummary.r2))"
      ]
    },
    {
      "cell_type": "markdown",
      "metadata": {
        "id": "jpIPOrHzQB-E"
      },
      "source": [
        "## Train/Test Splits\n",
        "\n",
        "But wait! We've commited a big mistake, we never separated our data set into a training and test set. Instead we trained on ALL of the data, something we generally want to avoid doing. Read ISLR and check out the theory lecture for more info on this, but remember we won't get a fair evaluation of our model by judging how well it does again on the same data it was trained on!\n",
        "\n",
        "Luckily Spark DataFrames have an almost too convienent method of splitting the data! Let's see it:"
      ]
    },
    {
      "cell_type": "code",
      "execution_count": null,
      "metadata": {
        "collapsed": true,
        "id": "zhxYaURVQB-F"
      },
      "outputs": [],
      "source": [
        "all_data = spark.read.format(\"libsvm\").load(\"sample_linear_regression_data.txt\")"
      ]
    },
    {
      "cell_type": "code",
      "execution_count": null,
      "metadata": {
        "id": "WScbvBK6QB-F"
      },
      "outputs": [],
      "source": [
        "# Pass in the split between training/test as a list.\n",
        "# No correct, but generally 70/30 or 60/40 splits are used.\n",
        "# Depending on how much data you have and how unbalanced it is.\n",
        "train_data,test_data = all_data.randomSplit([0.7,0.3])"
      ]
    },
    {
      "cell_type": "code",
      "execution_count": null,
      "metadata": {
        "colab": {
          "base_uri": "https://localhost:8080/"
        },
        "id": "MYcNE-KOQB-F",
        "outputId": "f4c970cd-2e45-4f6e-93a7-e93d192a0516"
      },
      "outputs": [
        {
          "output_type": "stream",
          "name": "stdout",
          "text": [
            "+-------------------+--------------------+\n",
            "|              label|            features|\n",
            "+-------------------+--------------------+\n",
            "|-28.046018037776633|(10,[0,1,2,3,4,5,...|\n",
            "|-26.805483428483072|(10,[0,1,2,3,4,5,...|\n",
            "|-26.736207182601724|(10,[0,1,2,3,4,5,...|\n",
            "| -23.51088409032297|(10,[0,1,2,3,4,5,...|\n",
            "|-23.487440120936512|(10,[0,1,2,3,4,5,...|\n",
            "|-21.432387764165806|(10,[0,1,2,3,4,5,...|\n",
            "|-20.212077258958672|(10,[0,1,2,3,4,5,...|\n",
            "|-20.057482615789212|(10,[0,1,2,3,4,5,...|\n",
            "|-19.884560774273424|(10,[0,1,2,3,4,5,...|\n",
            "|-19.872991038068406|(10,[0,1,2,3,4,5,...|\n",
            "|-19.782762789614537|(10,[0,1,2,3,4,5,...|\n",
            "| -19.66731861537172|(10,[0,1,2,3,4,5,...|\n",
            "|-19.402336030214553|(10,[0,1,2,3,4,5,...|\n",
            "| -19.16829262296376|(10,[0,1,2,3,4,5,...|\n",
            "| -18.27521356600463|(10,[0,1,2,3,4,5,...|\n",
            "|-17.494200356883344|(10,[0,1,2,3,4,5,...|\n",
            "|-17.428674570939506|(10,[0,1,2,3,4,5,...|\n",
            "| -17.32672073267595|(10,[0,1,2,3,4,5,...|\n",
            "|-17.065399625876015|(10,[0,1,2,3,4,5,...|\n",
            "| -16.71909683360509|(10,[0,1,2,3,4,5,...|\n",
            "+-------------------+--------------------+\n",
            "only showing top 20 rows\n",
            "\n"
          ]
        }
      ],
      "source": [
        "train_data.show()"
      ]
    },
    {
      "cell_type": "code",
      "execution_count": null,
      "metadata": {
        "colab": {
          "base_uri": "https://localhost:8080/"
        },
        "id": "P6Azqrn6QB-G",
        "outputId": "b75bffa6-2728-4086-be88-57e9e176cdd0"
      },
      "outputs": [
        {
          "output_type": "stream",
          "name": "stdout",
          "text": [
            "+-------------------+--------------------+\n",
            "|              label|            features|\n",
            "+-------------------+--------------------+\n",
            "|-28.571478869743427|(10,[0,1,2,3,4,5,...|\n",
            "|-22.949825936196074|(10,[0,1,2,3,4,5,...|\n",
            "|-22.837460416919342|(10,[0,1,2,3,4,5,...|\n",
            "|-18.845922472898582|(10,[0,1,2,3,4,5,...|\n",
            "|-17.803626188664516|(10,[0,1,2,3,4,5,...|\n",
            "|-17.026492264209548|(10,[0,1,2,3,4,5,...|\n",
            "| -16.08565904102149|(10,[0,1,2,3,4,5,...|\n",
            "|-15.951512565794573|(10,[0,1,2,3,4,5,...|\n",
            "|-15.732088272239245|(10,[0,1,2,3,4,5,...|\n",
            "|-15.348871155379253|(10,[0,1,2,3,4,5,...|\n",
            "|-15.334767479922341|(10,[0,1,2,3,4,5,...|\n",
            "|-14.822152909751189|(10,[0,1,2,3,4,5,...|\n",
            "|-14.328978509075442|(10,[0,1,2,3,4,5,...|\n",
            "|-13.976130931152703|(10,[0,1,2,3,4,5,...|\n",
            "| -12.92222310337042|(10,[0,1,2,3,4,5,...|\n",
            "| -11.43180236554046|(10,[0,1,2,3,4,5,...|\n",
            "|-11.328415936777782|(10,[0,1,2,3,4,5,...|\n",
            "|-11.039347808253828|(10,[0,1,2,3,4,5,...|\n",
            "| -10.35591860037468|(10,[0,1,2,3,4,5,...|\n",
            "|-10.293714040655924|(10,[0,1,2,3,4,5,...|\n",
            "+-------------------+--------------------+\n",
            "only showing top 20 rows\n",
            "\n"
          ]
        }
      ],
      "source": [
        "test_data.show()"
      ]
    },
    {
      "cell_type": "code",
      "execution_count": null,
      "metadata": {
        "collapsed": true,
        "id": "OU-1eT9kQB-G"
      },
      "outputs": [],
      "source": [
        "unlabeled_data = test_data.select('features')"
      ]
    },
    {
      "cell_type": "code",
      "execution_count": null,
      "metadata": {
        "colab": {
          "base_uri": "https://localhost:8080/"
        },
        "id": "F1klFH4yQB-G",
        "outputId": "024faf3e-c0aa-4c66-adb5-34e5b7bb0233"
      },
      "outputs": [
        {
          "output_type": "stream",
          "name": "stdout",
          "text": [
            "+--------------------+\n",
            "|            features|\n",
            "+--------------------+\n",
            "|(10,[0,1,2,3,4,5,...|\n",
            "|(10,[0,1,2,3,4,5,...|\n",
            "|(10,[0,1,2,3,4,5,...|\n",
            "|(10,[0,1,2,3,4,5,...|\n",
            "|(10,[0,1,2,3,4,5,...|\n",
            "|(10,[0,1,2,3,4,5,...|\n",
            "|(10,[0,1,2,3,4,5,...|\n",
            "|(10,[0,1,2,3,4,5,...|\n",
            "|(10,[0,1,2,3,4,5,...|\n",
            "|(10,[0,1,2,3,4,5,...|\n",
            "|(10,[0,1,2,3,4,5,...|\n",
            "|(10,[0,1,2,3,4,5,...|\n",
            "|(10,[0,1,2,3,4,5,...|\n",
            "|(10,[0,1,2,3,4,5,...|\n",
            "|(10,[0,1,2,3,4,5,...|\n",
            "|(10,[0,1,2,3,4,5,...|\n",
            "|(10,[0,1,2,3,4,5,...|\n",
            "|(10,[0,1,2,3,4,5,...|\n",
            "|(10,[0,1,2,3,4,5,...|\n",
            "|(10,[0,1,2,3,4,5,...|\n",
            "+--------------------+\n",
            "only showing top 20 rows\n",
            "\n"
          ]
        }
      ],
      "source": [
        "unlabeled_data.show()"
      ]
    },
    {
      "cell_type": "markdown",
      "metadata": {
        "id": "zKQE3wPIQB-H"
      },
      "source": [
        "Now we only train on the train_data"
      ]
    },
    {
      "cell_type": "code",
      "execution_count": null,
      "metadata": {
        "collapsed": true,
        "id": "saOUMgoyQB-H"
      },
      "outputs": [],
      "source": [
        "correct_model = lr.fit(train_data)"
      ]
    },
    {
      "cell_type": "markdown",
      "metadata": {
        "id": "V2OYoXTJQB-H"
      },
      "source": [
        "Now we can directly get a .summary object using the evaluate method:"
      ]
    },
    {
      "cell_type": "code",
      "execution_count": null,
      "metadata": {
        "id": "iw2Hh1eDQB-H"
      },
      "outputs": [],
      "source": [
        "test_results = correct_model.evaluate(test_data)"
      ]
    },
    {
      "cell_type": "code",
      "execution_count": null,
      "metadata": {
        "colab": {
          "base_uri": "https://localhost:8080/"
        },
        "id": "TM_LcK2LQB-H",
        "outputId": "5cc9e2e9-751e-41af-edb9-57b409c56abd"
      },
      "outputs": [
        {
          "output_type": "stream",
          "name": "stdout",
          "text": [
            "+-------------------+\n",
            "|          residuals|\n",
            "+-------------------+\n",
            "|-27.489820504562825|\n",
            "|-26.166872270717935|\n",
            "| -18.44680710904332|\n",
            "| -21.21725066974441|\n",
            "|-16.613442159489747|\n",
            "|-15.048636613149856|\n",
            "|-15.384207701515859|\n",
            "|-14.983775117558954|\n",
            "|-16.731229309251923|\n",
            "|-12.589887970462165|\n",
            "| -17.00640755726728|\n",
            "|-15.346351045304877|\n",
            "|  -16.5841676755364|\n",
            "|-13.604488338903552|\n",
            "|-17.975008316833428|\n",
            "|-14.039076973921441|\n",
            "|-13.379635636925366|\n",
            "| -7.798164589144695|\n",
            "| -14.89376792196542|\n",
            "|-7.3191136425967525|\n",
            "+-------------------+\n",
            "only showing top 20 rows\n",
            "\n",
            "RMSE: 10.566364498245113\n"
          ]
        }
      ],
      "source": [
        "test_results.residuals.show()\n",
        "print(\"RMSE: {}\".format(test_results.rootMeanSquaredError))"
      ]
    },
    {
      "cell_type": "markdown",
      "metadata": {
        "id": "cqpDirViQB-I"
      },
      "source": [
        "Well that is nice, but realistically we will eventually want to test this model against unlabeled data, after all, that is the whole point of building the model in the first place. We can again do this with a convenient method call, in this case, transform(). Which was actually being called within the evaluate() method. Let's see it in action:"
      ]
    },
    {
      "cell_type": "code",
      "execution_count": null,
      "metadata": {
        "id": "F1zw01nkQB-I"
      },
      "outputs": [],
      "source": [
        "predictions = correct_model.transform(unlabeled_data)"
      ]
    },
    {
      "cell_type": "code",
      "execution_count": null,
      "metadata": {
        "colab": {
          "base_uri": "https://localhost:8080/"
        },
        "id": "MO6Y8mSnQB-I",
        "outputId": "2f477862-ab2c-433a-e0c4-45de007f0677"
      },
      "outputs": [
        {
          "output_type": "stream",
          "name": "stdout",
          "text": [
            "+--------------------+-------------------+\n",
            "|            features|         prediction|\n",
            "+--------------------+-------------------+\n",
            "|(10,[0,1,2,3,4,5,...|-1.0816583651806027|\n",
            "|(10,[0,1,2,3,4,5,...| 3.2170463345218607|\n",
            "|(10,[0,1,2,3,4,5,...| -4.390653307876022|\n",
            "|(10,[0,1,2,3,4,5,...| 2.3713281968458255|\n",
            "|(10,[0,1,2,3,4,5,...|-1.1901840291747712|\n",
            "|(10,[0,1,2,3,4,5,...|-1.9778556510596905|\n",
            "|(10,[0,1,2,3,4,5,...|-0.7014513395056305|\n",
            "|(10,[0,1,2,3,4,5,...|-0.9677374482356181|\n",
            "|(10,[0,1,2,3,4,5,...| 0.9991410370126756|\n",
            "|(10,[0,1,2,3,4,5,...| -2.758983184917089|\n",
            "|(10,[0,1,2,3,4,5,...|  1.671640077344938|\n",
            "|(10,[0,1,2,3,4,5,...| 0.5241981355536882|\n",
            "|(10,[0,1,2,3,4,5,...| 2.2551891664609585|\n",
            "|(10,[0,1,2,3,4,5,...|-0.3716425922491502|\n",
            "|(10,[0,1,2,3,4,5,...| 5.0527852134630065|\n",
            "|(10,[0,1,2,3,4,5,...| 2.6072746083809815|\n",
            "|(10,[0,1,2,3,4,5,...|  2.051219700147584|\n",
            "|(10,[0,1,2,3,4,5,...| -3.241183219109133|\n",
            "|(10,[0,1,2,3,4,5,...| 4.5378493215907385|\n",
            "|(10,[0,1,2,3,4,5,...|-2.9746003980591715|\n",
            "+--------------------+-------------------+\n",
            "only showing top 20 rows\n",
            "\n"
          ]
        }
      ],
      "source": [
        "predictions.show()"
      ]
    },
    {
      "cell_type": "markdown",
      "metadata": {
        "id": "IO7gQPcpQB-I"
      },
      "source": [
        "Okay, so this data is a bit meaningless, so let's explore this same process with some data that actually makes a little more intuitive sense!"
      ]
    },
    {
      "cell_type": "code",
      "execution_count": null,
      "metadata": {
        "collapsed": true,
        "id": "5ENnyfVoQB-J"
      },
      "outputs": [],
      "source": []
    }
  ],
  "metadata": {
    "anaconda-cloud": {},
    "kernelspec": {
      "display_name": "Python [conda root]",
      "language": "python",
      "name": "conda-root-py"
    },
    "language_info": {
      "codemirror_mode": {
        "name": "ipython",
        "version": 3
      },
      "file_extension": ".py",
      "mimetype": "text/x-python",
      "name": "python",
      "nbconvert_exporter": "python",
      "pygments_lexer": "ipython3",
      "version": "3.5.3"
    },
    "colab": {
      "provenance": [],
      "include_colab_link": true
    }
  },
  "nbformat": 4,
  "nbformat_minor": 0
}